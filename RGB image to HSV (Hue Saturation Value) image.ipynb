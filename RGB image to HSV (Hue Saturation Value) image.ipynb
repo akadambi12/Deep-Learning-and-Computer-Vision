{
 "cells": [
  {
   "cell_type": "code",
   "execution_count": 1,
   "id": "224cc3db",
   "metadata": {},
   "outputs": [],
   "source": [
    "#importing libraries\n",
    "import matplotlib.image as mpimg\n",
    "import matplotlib.pyplot as plt\n",
    "import numpy as np\n",
    "import cv2"
   ]
  },
  {
   "cell_type": "code",
   "execution_count": null,
   "id": "0e322ad5",
   "metadata": {},
   "outputs": [],
   "source": [
    "img = cv2.imread('car.jpg')\n",
    "hsvImg = cv2.cvtColor(img, cv2.COLOR_BGR2HSV)\n",
    "\n",
    "cv2.imshow('RGB image', img)\n",
    "cv2.imshow('HSV image', hsvImg)\n",
    "cv2.waitKey(0)\n",
    "cv2.destroyAllWindows()"
   ]
  },
  {
   "cell_type": "code",
   "execution_count": null,
   "id": "5edd394a",
   "metadata": {},
   "outputs": [],
   "source": [
    "#check dimensions \n",
    "sz=img.shape\n",
    "sz\n"
   ]
  },
  {
   "cell_type": "code",
   "execution_count": null,
   "id": "4a75b358",
   "metadata": {},
   "outputs": [],
   "source": [
    "#Obatin height and width of image\n",
    "height=int(img.shape[0])\n",
    "width=int(img.shape[1])\n",
    "print('Height= ',height)\n",
    "print('Width= ',width)"
   ]
  },
  {
   "cell_type": "code",
   "execution_count": null,
   "id": "b40290de",
   "metadata": {},
   "outputs": [],
   "source": [
    "#display input image\n",
    "# cv2.imshow('car',img)\n",
    "# cv2.waitKey(0)\n",
    "# cv2.destroyAllWindows()"
   ]
  },
  {
   "cell_type": "code",
   "execution_count": null,
   "id": "af5de719",
   "metadata": {},
   "outputs": [],
   "source": [
    "# plt.imshow(img)\n",
    "# img.shape"
   ]
  },
  {
   "cell_type": "code",
   "execution_count": null,
   "id": "bd30211d",
   "metadata": {},
   "outputs": [],
   "source": [
    "# #change color to grayscale image\n",
    "# gray_img=cv2.cvtColor(img,COLOR2BGR)\n",
    "# cv2.imshow('car',gray_img)\n",
    "# cv2.waitKey(0)\n",
    "# cv2.destroyAllWindows()"
   ]
  },
  {
   "cell_type": "code",
   "execution_count": null,
   "id": "d85b8e81",
   "metadata": {},
   "outputs": [],
   "source": [
    "#Look at each channel seperately.\n",
    "#Hue channel\n",
    "plt.imshow(hsvImg[:,:,0])\n",
    "plt.title('Hue Channel')\n"
   ]
  },
  {
   "cell_type": "code",
   "execution_count": null,
   "id": "1aa0f684",
   "metadata": {},
   "outputs": [],
   "source": []
  },
  {
   "cell_type": "code",
   "execution_count": null,
   "id": "481777a9",
   "metadata": {},
   "outputs": [],
   "source": []
  }
 ],
 "metadata": {
  "kernelspec": {
   "display_name": "Python 3 (ipykernel)",
   "language": "python",
   "name": "python3"
  },
  "language_info": {
   "codemirror_mode": {
    "name": "ipython",
    "version": 3
   },
   "file_extension": ".py",
   "mimetype": "text/x-python",
   "name": "python",
   "nbconvert_exporter": "python",
   "pygments_lexer": "ipython3",
   "version": "3.9.12"
  }
 },
 "nbformat": 4,
 "nbformat_minor": 5
}
