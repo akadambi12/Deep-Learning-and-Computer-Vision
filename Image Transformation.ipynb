{
 "cells": [
  {
   "cell_type": "markdown",
   "id": "7f30f019",
   "metadata": {},
   "source": [
    "# Image Rotation"
   ]
  },
  {
   "cell_type": "code",
   "execution_count": 1,
   "id": "de19df7c",
   "metadata": {},
   "outputs": [],
   "source": [
    "import cv2\n",
    "import numpy as np\n",
    "import matplotlib.image as mpimg\n",
    "%matplotlib inline\n",
    "from matplotlib import pyplot as plt\n"
   ]
  },
  {
   "cell_type": "code",
   "execution_count": 2,
   "id": "4191060c",
   "metadata": {},
   "outputs": [
    {
     "data": {
      "text/plain": [
       "<function destroyAllWindows>"
      ]
     },
     "execution_count": 2,
     "metadata": {},
     "output_type": "execute_result"
    }
   ],
   "source": [
    "image=cv2.imread('car.jpeg')\n",
    "cv2.imshow('test image',image)\n",
    "cv2.waitKey(0)\n",
    "cv2.destroyAllWindows"
   ]
  },
  {
   "cell_type": "code",
   "execution_count": 5,
   "id": "69fbeccd",
   "metadata": {},
   "outputs": [],
   "source": [
    "height,width=image.shape[:2]"
   ]
  },
  {
   "cell_type": "code",
   "execution_count": 6,
   "id": "3525ef05",
   "metadata": {},
   "outputs": [
    {
     "data": {
      "text/plain": [
       "600"
      ]
     },
     "execution_count": 6,
     "metadata": {},
     "output_type": "execute_result"
    }
   ],
   "source": [
    "height"
   ]
  },
  {
   "cell_type": "code",
   "execution_count": 7,
   "id": "ca3a95bb",
   "metadata": {},
   "outputs": [
    {
     "data": {
      "text/plain": [
       "980"
      ]
     },
     "execution_count": 7,
     "metadata": {},
     "output_type": "execute_result"
    }
   ],
   "source": [
    "width"
   ]
  },
  {
   "cell_type": "code",
   "execution_count": 10,
   "id": "b29c2462",
   "metadata": {},
   "outputs": [],
   "source": [
    "#perform rotation\n",
    "im_rot=cv2.getRotationMatrix2D((width/2,height/2),90,0.7)\n",
    "image_rotated=cv2.warpAffine(image,im_rot,(width,height))\n",
    "cv2.imshow('Rotated',image_rotated)\n",
    "cv2.waitKey(0)\n",
    "cv2.destroyAllWindows()\n"
   ]
  },
  {
   "cell_type": "markdown",
   "id": "47ad070c",
   "metadata": {},
   "source": [
    "# Image translation"
   ]
  },
  {
   "cell_type": "code",
   "execution_count": 12,
   "id": "0d962db7",
   "metadata": {},
   "outputs": [],
   "source": [
    "trans_mat=np.float32([[1,0,120],[0,1,-150]])"
   ]
  },
  {
   "cell_type": "code",
   "execution_count": 13,
   "id": "4a149775",
   "metadata": {},
   "outputs": [
    {
     "data": {
      "text/plain": [
       "<function destroyAllWindows>"
      ]
     },
     "execution_count": 13,
     "metadata": {},
     "output_type": "execute_result"
    }
   ],
   "source": [
    "trans_image=cv2.warpAffine(image,trans_mat,(width,height))\n",
    "cv2.imshow('translated image',trans_image)\n",
    "cv2.waitKey(0)\n",
    "cv2.destroyAllWindows"
   ]
  },
  {
   "cell_type": "markdown",
   "id": "ce79a133",
   "metadata": {},
   "source": [
    "# Resizing image"
   ]
  },
  {
   "cell_type": "code",
   "execution_count": null,
   "id": "24a70095",
   "metadata": {},
   "outputs": [],
   "source": [
    "resized_image=cv2.resize(image,None,fx=0.5,fy=0.5,interpolation=cv2.INTER_CUBIC)\n",
    "cv2.imshow('resized',resized_image)\n",
    "cv2.waitKey(0)\n",
    "cv2.destroyAllWindows"
   ]
  },
  {
   "cell_type": "code",
   "execution_count": null,
   "id": "d0037b00",
   "metadata": {},
   "outputs": [],
   "source": []
  }
 ],
 "metadata": {
  "kernelspec": {
   "display_name": "Python 3 (ipykernel)",
   "language": "python",
   "name": "python3"
  },
  "language_info": {
   "codemirror_mode": {
    "name": "ipython",
    "version": 3
   },
   "file_extension": ".py",
   "mimetype": "text/x-python",
   "name": "python",
   "nbconvert_exporter": "python",
   "pygments_lexer": "ipython3",
   "version": "3.9.12"
  }
 },
 "nbformat": 4,
 "nbformat_minor": 5
}
