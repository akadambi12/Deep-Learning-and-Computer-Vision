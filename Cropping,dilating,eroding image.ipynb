{
 "cells": [
  {
   "cell_type": "code",
   "execution_count": 1,
   "id": "7a95c5d6",
   "metadata": {},
   "outputs": [],
   "source": [
    "import cv2\n",
    "import numpy as np\n",
    "import matplotlib.image as mpimg\n",
    "%matplotlib inline\n",
    "import matplotlib.pyplot as plt"
   ]
  },
  {
   "cell_type": "code",
   "execution_count": 2,
   "id": "78bf3561",
   "metadata": {},
   "outputs": [],
   "source": [
    "# input image\n",
    "image=cv2.imread('traffic sign.jpeg')\n",
    "cv2.imshow('test image',image)\n",
    "cv2.waitKey(0)\n",
    "cv2.destroyAllWindows()"
   ]
  },
  {
   "cell_type": "code",
   "execution_count": 3,
   "id": "dd1dcf24",
   "metadata": {},
   "outputs": [
    {
     "data": {
      "text/plain": [
       "642"
      ]
     },
     "execution_count": 3,
     "metadata": {},
     "output_type": "execute_result"
    }
   ],
   "source": [
    "height,width=image.shape[:2]\n",
    "height"
   ]
  },
  {
   "cell_type": "code",
   "execution_count": 4,
   "id": "aa4c21ee",
   "metadata": {},
   "outputs": [
    {
     "data": {
      "text/plain": [
       "960"
      ]
     },
     "execution_count": 4,
     "metadata": {},
     "output_type": "execute_result"
    }
   ],
   "source": [
    "width"
   ]
  },
  {
   "cell_type": "code",
   "execution_count": 5,
   "id": "792fa20e",
   "metadata": {},
   "outputs": [],
   "source": [
    "w0=int(width*0.5)\n",
    "h0=int(height*0.5)"
   ]
  },
  {
   "cell_type": "code",
   "execution_count": 6,
   "id": "34f45d0e",
   "metadata": {},
   "outputs": [],
   "source": [
    "h1=int(height*1)\n",
    "w1=int(width*1)"
   ]
  },
  {
   "cell_type": "markdown",
   "id": "24bc1d63",
   "metadata": {},
   "source": [
    "# Cropping image"
   ]
  },
  {
   "cell_type": "code",
   "execution_count": 7,
   "id": "0b1dd2f3",
   "metadata": {},
   "outputs": [],
   "source": [
    "cropped_img=image[h0:h1,w0:w1]\n",
    "cv2.imshow('cropped image',cropped_img)\n",
    "cv2.waitKey(0)\n",
    "cv2.destroyAllWindows()"
   ]
  },
  {
   "cell_type": "markdown",
   "id": "9795c23b",
   "metadata": {},
   "source": [
    "# Erosion and Dilation"
   ]
  },
  {
   "cell_type": "code",
   "execution_count": 11,
   "id": "1b85e9d4",
   "metadata": {},
   "outputs": [],
   "source": [
    "kernel=np.ones((3,3),np.uint8)\n",
    "image_erosion=cv2.erode(image,kernel,iterations=3)\n",
    "image_dilation=cv2.dilate(image,kernel,iterations=3)\n"
   ]
  },
  {
   "cell_type": "code",
   "execution_count": 12,
   "id": "d52d033a",
   "metadata": {},
   "outputs": [],
   "source": [
    "\n",
    "cv2.imshow('dilated image',image_dilation)\n",
    "cv2.waitKey(0)\n",
    "cv2.destroyAllWindows()"
   ]
  },
  {
   "cell_type": "code",
   "execution_count": 13,
   "id": "0480abfd",
   "metadata": {},
   "outputs": [],
   "source": [
    "cv2.imshow('eroded image',image_erosion)\n",
    "cv2.waitKey(0)\n",
    "cv2.destroyAllWindows()"
   ]
  },
  {
   "cell_type": "code",
   "execution_count": null,
   "id": "79b9399e",
   "metadata": {},
   "outputs": [],
   "source": []
  }
 ],
 "metadata": {
  "kernelspec": {
   "display_name": "Python 3 (ipykernel)",
   "language": "python",
   "name": "python3"
  },
  "language_info": {
   "codemirror_mode": {
    "name": "ipython",
    "version": 3
   },
   "file_extension": ".py",
   "mimetype": "text/x-python",
   "name": "python",
   "nbconvert_exporter": "python",
   "pygments_lexer": "ipython3",
   "version": "3.9.12"
  }
 },
 "nbformat": 4,
 "nbformat_minor": 5
}
