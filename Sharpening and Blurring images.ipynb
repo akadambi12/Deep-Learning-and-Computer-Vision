{
 "cells": [
  {
   "cell_type": "code",
   "execution_count": 1,
   "id": "26df87b8",
   "metadata": {},
   "outputs": [
    {
     "name": "stdout",
     "output_type": "stream",
     "text": [
      "Requirement already satisfied: opencv-python==4.6.0.66 in /Users/anupamakadambi/opt/anaconda3/lib/python3.9/site-packages (4.6.0.66)\n",
      "Requirement already satisfied: numpy>=1.14.5 in /Users/anupamakadambi/opt/anaconda3/lib/python3.9/site-packages (from opencv-python==4.6.0.66) (1.21.5)\n",
      "Note: you may need to restart the kernel to use updated packages.\n"
     ]
    }
   ],
   "source": [
    "pip install opencv-python==4.6.0.66"
   ]
  },
  {
   "cell_type": "code",
   "execution_count": 2,
   "id": "af313668",
   "metadata": {},
   "outputs": [],
   "source": [
    "#import libraries\n",
    "import matplotlib.image as mpimg\n",
    "import matplotlib.pyplot as plt\n",
    "import numpy as np\n",
    "import cv2"
   ]
  },
  {
   "cell_type": "code",
   "execution_count": 3,
   "id": "3e13975e",
   "metadata": {},
   "outputs": [
    {
     "data": {
      "text/plain": [
       "-1"
      ]
     },
     "execution_count": 3,
     "metadata": {},
     "output_type": "execute_result"
    }
   ],
   "source": [
    "#import image\n",
    "image=cv2.imread('car.jpeg')\n",
    "cv2.imshow('my image',image) #cvw.imshow() takes 2 arguments.window name and file.\n",
    "cv2.waitKey(0)\n",
    "cv2.destroyAllWindows()\n",
    "cv2.waitKey(1)"
   ]
  },
  {
   "cell_type": "code",
   "execution_count": 4,
   "id": "e420152c",
   "metadata": {},
   "outputs": [],
   "source": [
    "#change image to grayscale\n",
    "gray=cv2.cvtColor(image,cv2.COLOR_BGR2GRAY)\n",
    "cv2.imshow('Gray image',gray)\n",
    "cv2.waitKey(0)\n",
    "\n",
    "cv2.destroyAllWindows()"
   ]
  },
  {
   "cell_type": "code",
   "execution_count": 5,
   "id": "0aa45cdb",
   "metadata": {},
   "outputs": [],
   "source": [
    "#apply sharpening kernel\n",
    "sharpening_kernel_1=np.array([[0,-1,0],[-1,5,-1],[0,-1,0]])\n",
    "sharpened_image_1=cv2.filter2D(gray,-1,sharpening_kernel_1)\n",
    "cv2.imshow('Sharpened image 1',sharpened_image_1)\n",
    "cv2.waitKey(0)\n",
    "cv2.destroyAllWindows()\n",
    "\n"
   ]
  },
  {
   "cell_type": "code",
   "execution_count": 6,
   "id": "281b1a51",
   "metadata": {},
   "outputs": [],
   "source": [
    "sharpening_kernel_2=np.array([[-1,-1,-1],[-1,9,-1],[-1,-1,-1]])\n",
    "sharpened_image_2=cv2.filter2D(gray,-1,sharpening_kernel_2)\n",
    "cv2.imshow('sharpened image 2',sharpened_image_2)\n",
    "cv2.waitKey(0)\n",
    "cv2.destroyAllWindows()\n"
   ]
  },
  {
   "cell_type": "code",
   "execution_count": 7,
   "id": "1f69f0ee",
   "metadata": {},
   "outputs": [
    {
     "data": {
      "text/plain": [
       "array([[1., 1., 1.],\n",
       "       [1., 1., 1.],\n",
       "       [1., 1., 1.]])"
      ]
     },
     "execution_count": 7,
     "metadata": {},
     "output_type": "execute_result"
    }
   ],
   "source": [
    "#blurring kernel\n",
    "blur_kernel=np.ones((3,3))\n",
    "blur_kernel\n"
   ]
  },
  {
   "cell_type": "code",
   "execution_count": 8,
   "id": "7a99ba22",
   "metadata": {},
   "outputs": [
    {
     "data": {
      "text/plain": [
       "-1"
      ]
     },
     "execution_count": 8,
     "metadata": {},
     "output_type": "execute_result"
    }
   ],
   "source": [
    "blurred_image=cv2.filter2D(gray,-1,blur_kernel)\n",
    "cv2.imshow('Blurred image',blurred_image)\n",
    "cv2.waitKey(0)\n",
    "cv2.destroyAllWindows()\n",
    "cv2.waitKey(1)"
   ]
  },
  {
   "cell_type": "code",
   "execution_count": 9,
   "id": "c7e1ab3e",
   "metadata": {},
   "outputs": [
    {
     "data": {
      "text/plain": [
       "array([[0.11111111, 0.11111111, 0.11111111],\n",
       "       [0.11111111, 0.11111111, 0.11111111],\n",
       "       [0.11111111, 0.11111111, 0.11111111]])"
      ]
     },
     "execution_count": 9,
     "metadata": {},
     "output_type": "execute_result"
    }
   ],
   "source": [
    "#Normalize the kernel and check image\n",
    "blurr_kernel=np.ones((3,3))*1/9\n",
    "blurr_kernel"
   ]
  },
  {
   "cell_type": "code",
   "execution_count": 10,
   "id": "af2002d6",
   "metadata": {},
   "outputs": [],
   "source": [
    "blurred_image2=cv2.filter2D(gray,-1,blurr_kernel)\n",
    "cv2.imshow('blurred image',blurred_image2)\n",
    "cv2.waitKey(0)\n",
    "cv2.destroyAllWindows()"
   ]
  },
  {
   "cell_type": "code",
   "execution_count": 12,
   "id": "9ec36d8d",
   "metadata": {},
   "outputs": [
    {
     "name": "stdout",
     "output_type": "stream",
     "text": [
      "[[1. 1. 1. 1. 1. 1. 1. 1.]\n",
      " [1. 1. 1. 1. 1. 1. 1. 1.]\n",
      " [1. 1. 1. 1. 1. 1. 1. 1.]\n",
      " [1. 1. 1. 1. 1. 1. 1. 1.]\n",
      " [1. 1. 1. 1. 1. 1. 1. 1.]\n",
      " [1. 1. 1. 1. 1. 1. 1. 1.]\n",
      " [1. 1. 1. 1. 1. 1. 1. 1.]\n",
      " [1. 1. 1. 1. 1. 1. 1. 1.]]\n"
     ]
    }
   ],
   "source": [
    "#blurring using more powerful kernel\n",
    "blur_kernel_3=np.ones((8,8))\n",
    "print(blur_kernel_3)"
   ]
  },
  {
   "cell_type": "code",
   "execution_count": 13,
   "id": "4ec8d745",
   "metadata": {},
   "outputs": [
    {
     "data": {
      "text/plain": [
       "array([[0.015625, 0.015625, 0.015625, 0.015625, 0.015625, 0.015625,\n",
       "        0.015625, 0.015625],\n",
       "       [0.015625, 0.015625, 0.015625, 0.015625, 0.015625, 0.015625,\n",
       "        0.015625, 0.015625],\n",
       "       [0.015625, 0.015625, 0.015625, 0.015625, 0.015625, 0.015625,\n",
       "        0.015625, 0.015625],\n",
       "       [0.015625, 0.015625, 0.015625, 0.015625, 0.015625, 0.015625,\n",
       "        0.015625, 0.015625],\n",
       "       [0.015625, 0.015625, 0.015625, 0.015625, 0.015625, 0.015625,\n",
       "        0.015625, 0.015625],\n",
       "       [0.015625, 0.015625, 0.015625, 0.015625, 0.015625, 0.015625,\n",
       "        0.015625, 0.015625],\n",
       "       [0.015625, 0.015625, 0.015625, 0.015625, 0.015625, 0.015625,\n",
       "        0.015625, 0.015625],\n",
       "       [0.015625, 0.015625, 0.015625, 0.015625, 0.015625, 0.015625,\n",
       "        0.015625, 0.015625]])"
      ]
     },
     "execution_count": 13,
     "metadata": {},
     "output_type": "execute_result"
    }
   ],
   "source": [
    "blur_kernel_3=np.ones((8,8))*1/64\n",
    "blur_kernel_3"
   ]
  },
  {
   "cell_type": "code",
   "execution_count": null,
   "id": "caeaac88",
   "metadata": {},
   "outputs": [],
   "source": [
    "blur_image3=cv2.filter2D(gray,-1,blur_kernel_3)\n",
    "cv2.imshow(\"blurred image\",blur_image3)\n",
    "cv2.waitKey(0)\n",
    "cv2.destroyAllWindows"
   ]
  },
  {
   "cell_type": "code",
   "execution_count": null,
   "id": "75968d0f",
   "metadata": {},
   "outputs": [],
   "source": []
  }
 ],
 "metadata": {
  "kernelspec": {
   "display_name": "Python 3 (ipykernel)",
   "language": "python",
   "name": "python3"
  },
  "language_info": {
   "codemirror_mode": {
    "name": "ipython",
    "version": 3
   },
   "file_extension": ".py",
   "mimetype": "text/x-python",
   "name": "python",
   "nbconvert_exporter": "python",
   "pygments_lexer": "ipython3",
   "version": "3.9.12"
  }
 },
 "nbformat": 4,
 "nbformat_minor": 5
}
